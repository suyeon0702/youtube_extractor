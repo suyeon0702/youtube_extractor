{
 "cells": [
  {
   "cell_type": "markdown",
   "metadata": {},
   "source": [
    "### 음원 및 영상 다운로드"
   ]
  },
  {
   "cell_type": "code",
   "execution_count": 2,
   "metadata": {},
   "outputs": [],
   "source": [
    "import yt_dlp"
   ]
  },
  {
   "cell_type": "markdown",
   "metadata": {},
   "source": [
    "#### 영상 다운로드"
   ]
  },
  {
   "cell_type": "code",
   "execution_count": 7,
   "metadata": {},
   "outputs": [],
   "source": [
    "def download_video_with_ytdlp(youtube_url, filename):\n",
    "    \"\"\"yt-dlp를 사용하여 YouTube에서 MP4 비디오를 다운로드하고 파일 이름을 반환합니다.\"\"\"\n",
    "    ydl_opts = {\n",
    "        'format': 'bestvideo+bestaudio/best',  # 최고 품질의 비디오와 오디오 형식을 지정\n",
    "        'outtmpl': f'{filename}.mp4',  # 파일 이름을 지정하고 확장자를 mp4로 설정\n",
    "        'merge_output_format': 'mp4',  # 비디오와 오디오를 mp4 형식으로 병합\n",
    "        'ffmpeg_location': r'C:\\Users\\USER\\ffmpeg-7.1',  # 필요한 경우 FFmpeg 경로 지정\n",
    "    }\n",
    "\n",
    "    with yt_dlp.YoutubeDL(ydl_opts) as ydl:\n",
    "        info_dict = ydl.extract_info(youtube_url, download=True)  # YouTube 정보 추출 및 다운로드\n",
    "        file_name = ydl.prepare_filename(info_dict).replace('.webm', '.mp4')  # 파일 이름을 mp4로 변경\n",
    "    return file_name  # 파일 이름 반환"
   ]
  },
  {
   "cell_type": "code",
   "execution_count": null,
   "metadata": {},
   "outputs": [],
   "source": [
    "https://youtu.be/MR2ela9evnk?si=oFkAnmn0NZZTF_KY"
   ]
  },
  {
   "cell_type": "markdown",
   "metadata": {},
   "source": [
    "#### 음원 다운로드"
   ]
  },
  {
   "cell_type": "code",
   "execution_count": 4,
   "metadata": {},
   "outputs": [],
   "source": [
    "def download_audio_with_ytdlp(youtube_url, filename):\n",
    "    \"\"\"yt-dlp를 사용하여 YouTube에서 오디오를 다운로드하고 파일 이름을 반환합니다.\"\"\"\n",
    "    ydl_opts = {\n",
    "        'format': 'bestaudio/best',  # 최고 품질의 오디오 형식 지정\n",
    "        'extractaudio': True,  # 오디오만 추출\n",
    "        'audioformat': 'wav',  # 오디오 형식을 wav로 지정\n",
    "        'outtmpl': rf'.\\data\\{filename}.%(ext)s',  # 파일 이름 지정 및 확장자 설정\n",
    "        'postprocessors': [{\n",
    "            'key': 'FFmpegExtractAudio',  # FFmpeg을 사용하여 오디오 추출\n",
    "            'preferredcodec': 'wav',  # 선호하는 코덱을 wav로 설정\n",
    "            'preferredquality': '192',  # 오디오 품질을 192kbps로 설정\n",
    "        }],\n",
    "        'ffmpeg_location': './ffmpeg/bin',  # 필요한 경우 FFmpeg 경로 지정\n",
    "    }\n",
    "\n",
    "    with yt_dlp.YoutubeDL(ydl_opts) as ydl:\n",
    "        info_dict = ydl.extract_info(youtube_url, download=True)  # YouTube 정보 추출 및 다운로드\n",
    "        file_name = ydl.prepare_filename(info_dict).replace('.webm', '.wav')  # 파일 이름을 wav로 변경\n",
    "    return file_name  # 파일 이름 반환"
   ]
  },
  {
   "cell_type": "code",
   "execution_count": null,
   "metadata": {},
   "outputs": [],
   "source": [
    "youtube_url = 'https://youtu.be/a7W6vhiuUUg?si=B0f8YF_k6zL0JQdK'\n",
    "file_name = \"hy_jw_collection\"\n",
    "# download_audio_with_ytdlp(youtube_url, file_name)  # 오디오 다운로드"
   ]
  },
  {
   "cell_type": "code",
   "execution_count": 5,
   "metadata": {},
   "outputs": [],
   "source": [
    "# extract data from excel\n",
    "import pandas as pd\n",
    "import os\n",
    "\n",
    "def excel_to_df(file_path, sheet_name=None, header=0):\n",
    "    \"\"\"\n",
    "    Excel 파일을 pandas DataFrame으로 변환하는 함수\n",
    "    \n",
    "    Parameters:\n",
    "        file_path (str): Excel 파일 경로\n",
    "        sheet_name (str or int, optional): 읽을 시트 이름 또는 인덱스. None일 경우 첫 번째 시트\n",
    "        header (int, optional): 헤더로 사용할 행 번호. 기본값 0\n",
    "        \n",
    "    Returns:\n",
    "        pd.DataFrame: 변환된 DataFrame\n",
    "        \n",
    "    Raises:\n",
    "        FileNotFoundError: 파일이 존재하지 않을 경우\n",
    "        Exception: 파일 읽기 실패 시\n",
    "    \"\"\"\n",
    "    try:\n",
    "        # 파일 존재 여부 확인\n",
    "        if not os.path.exists(file_path):\n",
    "            raise FileNotFoundError(f\"파일을 찾을 수 없습니다: {file_path}\")\n",
    "            \n",
    "        # 파일 확장자 확인\n",
    "        if not file_path.endswith('.xlsx') and not file_path.endswith('.xls'):\n",
    "            raise ValueError(\"엑셀 파일(.xlsx 또는 .xls)만 지원됩니다.\")\n",
    "            \n",
    "        # Excel 파일 읽기\n",
    "        df = pd.read_excel(\n",
    "            file_path,\n",
    "            sheet_name=sheet_name,\n",
    "            header=header\n",
    "        )\n",
    "        \n",
    "        # 데이터 기본 정보 출력\n",
    "        print(f\"데이터 크기: {df.shape}\")\n",
    "        print(\"\\n처음 5행:\")\n",
    "        print(df.head())\n",
    "        print(\"\\n데이터 정보:\")\n",
    "        print(df.info())\n",
    "        \n",
    "        return df\n",
    "        \n",
    "    except Exception as e:\n",
    "        print(f\"오류 발생: {str(e)}\")\n",
    "        raise"
   ]
  },
  {
   "cell_type": "code",
   "execution_count": null,
   "metadata": {},
   "outputs": [],
   "source": [
    "file_path = \"./youtube_playlist 1.xlsx\"\n",
    "df = excel_to_df(file_path, sheet_name=\"Sheet1\")\n",
    "df"
   ]
  },
  {
   "cell_type": "code",
   "execution_count": null,
   "metadata": {},
   "outputs": [],
   "source": [
    "song_list_df = df.copy()\n",
    "song_list_df = song_list_df.rename(columns={'Unnamed: 1':'keyword'})\n",
    "song_list_df.head(3)"
   ]
  },
  {
   "cell_type": "code",
   "execution_count": null,
   "metadata": {},
   "outputs": [],
   "source": [
    "df_url_list = []\n",
    "for i in range(len(song_list_df)):\n",
    "    df_url_list.append((song_list_df['keyword'][i], song_list_df['url'][i]))\n",
    "\n",
    "print(df_url_list[:10])"
   ]
  },
  {
   "cell_type": "code",
   "execution_count": null,
   "metadata": {},
   "outputs": [],
   "source": [
    "df_url_list[31][0]"
   ]
  },
  {
   "cell_type": "code",
   "execution_count": null,
   "metadata": {},
   "outputs": [],
   "source": [
    "df_url_list[0]"
   ]
  },
  {
   "cell_type": "code",
   "execution_count": null,
   "metadata": {},
   "outputs": [],
   "source": [
    "tmp_list = df_url_list[:32]\n",
    "for url_data in tmp_list:\n",
    "    file_name = url_data[0]\n",
    "    youtube_url = url_data[1]\n",
    "    # print(file_name, youtube_url)\n",
    "    download_audio_with_ytdlp(youtube_url, file_name)  # 오디오 다운로드"
   ]
  },
  {
   "cell_type": "markdown",
   "metadata": {},
   "source": [
    "##### url_list의 곡 다운로드"
   ]
  },
  {
   "cell_type": "code",
   "execution_count": 5,
   "metadata": {},
   "outputs": [],
   "source": [
    "url_list = [\n",
    "    ('f9_take a chance', 'https://youtu.be/06_3xYmZUig?si=FAoGwyEo6CNJXdY1'),\n",
    "    ('f9_up and', 'https://youtu.be/hJvj3Zq3J1s?si=JquSQzwl6UW9jy6E'),\n",
    "    ('f9_rewind', 'https://youtu.be/zPey-f_WnhA?si=EvDXp2H2NSfsJW-X'),\n",
    "    ('f9_blind letter', 'https://youtu.be/S7xpvOVfclg?si=QOKQ9s4ZVx-AKKoR'),\n",
    "    ('f9_cheese', 'https://youtu.be/xKI1gdlDzxc?si=3-v5CotistW189Af'),\n",
    "    ('f9_attitude', 'https://youtu.be/aZ_rZxIu-J8?si=8Le_1YUPIwkXn3Yq'),\n",
    "    ('f9_wishlist', 'https://youtu.be/cMUcGLwNusU?si=b2IxMN2EnxvXOMnK'),\n",
    "    ('f9_wishlist_live', 'https://youtu.be/5yrqOo8CGQw?si=_NLo7ycxRyN6RA1J'),\n",
    "    ('f9_in the mirror', 'https://youtu.be/c_Ku4W2iCY0?si=pHIE-F-gXGZkx7sW'),\n",
    "    ('f9_prom night', 'https://youtu.be/wqYg1gz3EBI?si=8fmKYQt6nehVfYQT'),\n",
    "    ('f9_what i want', 'https://youtu.be/OHF_zI2lZIk?si=LpNh-wC7IdbIBDry'),\n",
    "    ('f9_bring it on', 'https://youtu.be/SfNagEVfftc?si=0GuPLZ5NBXwKTsGf'),\n",
    "    ('f9_my night routine', 'https://youtu.be/5ERZhs8xGVc?si=ugC3LrJjt-2Cvc_i'),\n",
    "    ('f9_escape room', 'https://youtu.be/7rbsEZZuUdE?si=6Cynv41aaeggK6tT'),\n",
    "    ('f9_0g', 'https://youtu.be/l2S7HPsWW7Y?si=tNeIs0cQ9jySyELe'),\n",
    "    ('f9_hush hush', 'https://youtu.be/0TfGtiD2HXc?si=OmPh-7WTq1nEVgJE'),\n",
    "    ('f9_love is around', 'https://youtu.be/8VGyWD8Pq9o?si=k7DYR-DeY7_d8mW6'),\n",
    "    ('f9_weather', 'https://youtu.be/l5a-9Ibb42I?si=yZZpeIbhucd3htJ0'),\n",
    "    ('f9_somebody to love', 'https://youtu.be/j9Oh19mZG5k?si=iGjLxA-FCsScM2wa'),\n",
    "    ('f9_mulgogi', 'https://youtu.be/p-H0piaubjY?si=PFsfOatWij-QUpGQ'),\n",
    "    ('jw_idontwannabeyou', 'https://youtu.be/HI-Y1aMx4kg?si=xgsGrj7N7Ph1s84M'),\n",
    "    ('jw_i never love again', 'https://youtu.be/7xaA351rjsE?si=DWg6-b--Bn-4a6r_'),\n",
    "    ('jw_sigh', 'https://youtu.be/APUVjrk7ato?si=dvdYAozKFjRVNA5M'),\n",
    "    ('jw_sy_save your tears', 'https://youtu.be/JvsIsYqCxfY?si=VRmhV6YcfDkP0Tl_'),\n",
    "    ('jw_my all', 'https://youtu.be/6tShs9ChUsI?si=WQSgZJpJKMP1Cjua'),\n",
    "    ('hy_jw_909_1', 'https://youtu.be/ZD22Aktmecs?si=drOSkqtXvf6Sg_kQ'),\n",
    "    ('hy_jw_909_2', 'https://youtu.be/W18A9BadtN4?si=Ayzljq3h_DpKyCO9'),\n",
    "    ('jw_sy_909_3', 'https://youtu.be/n-gjjfVY80Y?si=BM9FD0IYbUU2vWDO'),\n",
    "    ('byl_0310', 'https://youtu.be/d4eiB-nmIoo?si=old2grzYSdQEl6j6'),\n",
    "    ('jw_snow in california', 'https://youtu.be/TjWlrTGIG0U?si=HYyMfqB1ZICQHI70'),\n",
    "    ('jw_speechless', 'https://youtu.be/O5LZeHWyo3Q?si=yfSdUjOqsDxSOZFk'),\n",
    "    ('hy_jw_happy', 'https://youtu.be/s82IgeW0Otk?si=3b0zp6VA3eUCvTNt'),\n",
    "    ('jw_sy_senorita', 'https://youtu.be/FVUPcrbe3zQ?si=HpqMrwM3mrfPcfyN'),\n",
    "    ('f9_santa tell me', 'https://youtu.be/xSg5wI3hcy4?si=l6EneAqCHjo92_nn'),\n",
    "    ('f9_alcohol free', 'https://youtu.be/gB0zQ_t1tQ0?si=w1Vo5GyP87LMO3Af'),\n",
    "    ('f9_feel my rhythm', 'https://youtu.be/nuSkpgw9vWg?si=RVAVW5yFTCg85KkO'),\n",
    "    ('iu_waiting', 'https://youtu.be/32kyp-fj9_I?si=YnEKlE-Q7rNBKEs1'),\n",
    "    ('jw_what are we', 'https://youtu.be/oCwgkBrRivI?si=Em7xgtJ8NIKtZ0cd'),\n",
    "    ('f9_one page', 'https://youtu.be/h0zZE6L6sYo?si=n9gGl-xSzgatPhzD'),\n",
    "    ('f9_from', 'https://youtu.be/eeZzCoghZzw?si=JdJXQSFmsF5N2b5I'),\n",
    "    # ('', ''),\n",
    "]"
   ]
  },
  {
   "cell_type": "code",
   "execution_count": null,
   "metadata": {},
   "outputs": [],
   "source": [
    "for url_data in url_list:\n",
    "    file_name = url_data[0]\n",
    "    youtube_url = url_data[1]\n",
    "    download_audio_with_ytdlp(youtube_url, file_name)  # 오디오 다운로드"
   ]
  }
 ],
 "metadata": {
  "kernelspec": {
   "display_name": "Python 3",
   "language": "python",
   "name": "python3"
  },
  "language_info": {
   "codemirror_mode": {
    "name": "ipython",
    "version": 3
   },
   "file_extension": ".py",
   "mimetype": "text/x-python",
   "name": "python",
   "nbconvert_exporter": "python",
   "pygments_lexer": "ipython3",
   "version": "3.13.1"
  }
 },
 "nbformat": 4,
 "nbformat_minor": 2
}
