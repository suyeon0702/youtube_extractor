{
 "cells": [
  {
   "cell_type": "markdown",
   "metadata": {},
   "source": [
    "### 음원 및 영상 다운로드"
   ]
  },
  {
   "cell_type": "code",
   "execution_count": 2,
   "metadata": {},
   "outputs": [],
   "source": [
    "import yt_dlp"
   ]
  },
  {
   "cell_type": "markdown",
   "metadata": {},
   "source": [
    "#### 영상 다운로드"
   ]
  },
  {
   "cell_type": "code",
   "execution_count": 7,
   "metadata": {},
   "outputs": [],
   "source": [
    "def download_video_with_ytdlp(youtube_url, filename):\n",
    "    \"\"\"yt-dlp를 사용하여 YouTube에서 MP4 비디오를 다운로드하고 파일 이름을 반환합니다.\"\"\"\n",
    "    ydl_opts = {\n",
    "        'format': 'bestvideo+bestaudio/best',  # 최고 품질의 비디오와 오디오 형식을 지정\n",
    "        'outtmpl': f'{filename}.mp4',  # 파일 이름을 지정하고 확장자를 mp4로 설정\n",
    "        'merge_output_format': 'mp4',  # 비디오와 오디오를 mp4 형식으로 병합\n",
    "        'ffmpeg_location': r'C:\\Users\\USER\\ffmpeg-7.1',  # 필요한 경우 FFmpeg 경로 지정\n",
    "    }\n",
    "\n",
    "    with yt_dlp.YoutubeDL(ydl_opts) as ydl:\n",
    "        info_dict = ydl.extract_info(youtube_url, download=True)  # YouTube 정보 추출 및 다운로드\n",
    "        file_name = ydl.prepare_filename(info_dict).replace('.webm', '.mp4')  # 파일 이름을 mp4로 변경\n",
    "    return file_name  # 파일 이름 반환"
   ]
  },
  {
   "cell_type": "code",
   "execution_count": null,
   "metadata": {},
   "outputs": [],
   "source": [
    "https://youtu.be/MR2ela9evnk?si=oFkAnmn0NZZTF_KY"
   ]
  },
  {
   "cell_type": "markdown",
   "metadata": {},
   "source": [
    "#### 음원 다운로드"
   ]
  },
  {
   "cell_type": "code",
   "execution_count": 4,
   "metadata": {},
   "outputs": [],
   "source": [
    "def download_audio_with_ytdlp(youtube_url, filename):\n",
    "    \"\"\"yt-dlp를 사용하여 YouTube에서 오디오를 다운로드하고 파일 이름을 반환합니다.\"\"\"\n",
    "    ydl_opts = {\n",
    "        'format': 'bestaudio/best',  # 최고 품질의 오디오 형식 지정\n",
    "        'extractaudio': True,  # 오디오만 추출\n",
    "        'audioformat': 'wav',  # 오디오 형식을 wav로 지정\n",
    "        'outtmpl': rf'.\\data\\{filename}.%(ext)s',  # 파일 이름 지정 및 확장자 설정\n",
    "        'postprocessors': [{\n",
    "            'key': 'FFmpegExtractAudio',  # FFmpeg을 사용하여 오디오 추출\n",
    "            'preferredcodec': 'wav',  # 선호하는 코덱을 wav로 설정\n",
    "            'preferredquality': '192',  # 오디오 품질을 192kbps로 설정\n",
    "        }],\n",
    "        'ffmpeg_location': './ffmpeg/bin',  # 필요한 경우 FFmpeg 경로 지정\n",
    "    }\n",
    "\n",
    "    with yt_dlp.YoutubeDL(ydl_opts) as ydl:\n",
    "        info_dict = ydl.extract_info(youtube_url, download=True)  # YouTube 정보 추출 및 다운로드\n",
    "        file_name = ydl.prepare_filename(info_dict).replace('.webm', '.wav')  # 파일 이름을 wav로 변경\n",
    "    return file_name  # 파일 이름 반환"
   ]
  },
  {
   "cell_type": "code",
   "execution_count": null,
   "metadata": {},
   "outputs": [],
   "source": [
    "youtube_url = ''\n",
    "file_name = \"\"\n",
    "# download_audio_with_ytdlp(youtube_url, file_name)  # 오디오 다운로드"
   ]
  },
  {
   "cell_type": "code",
   "execution_count": 5,
   "metadata": {},
   "outputs": [],
   "source": [
    "# extract data from excel\n",
    "import pandas as pd\n",
    "import os\n",
    "\n",
    "def excel_to_df(file_path, sheet_name=None, header=0):\n",
    "    \"\"\"\n",
    "    Excel 파일을 pandas DataFrame으로 변환하는 함수\n",
    "    \n",
    "    Parameters:\n",
    "        file_path (str): Excel 파일 경로\n",
    "        sheet_name (str or int, optional): 읽을 시트 이름 또는 인덱스. None일 경우 첫 번째 시트\n",
    "        header (int, optional): 헤더로 사용할 행 번호. 기본값 0\n",
    "        \n",
    "    Returns:\n",
    "        pd.DataFrame: 변환된 DataFrame\n",
    "        \n",
    "    Raises:\n",
    "        FileNotFoundError: 파일이 존재하지 않을 경우\n",
    "        Exception: 파일 읽기 실패 시\n",
    "    \"\"\"\n",
    "    try:\n",
    "        # 파일 존재 여부 확인\n",
    "        if not os.path.exists(file_path):\n",
    "            raise FileNotFoundError(f\"파일을 찾을 수 없습니다: {file_path}\")\n",
    "            \n",
    "        # 파일 확장자 확인\n",
    "        if not file_path.endswith('.xlsx') and not file_path.endswith('.xls'):\n",
    "            raise ValueError(\"엑셀 파일(.xlsx 또는 .xls)만 지원됩니다.\")\n",
    "            \n",
    "        # Excel 파일 읽기\n",
    "        df = pd.read_excel(\n",
    "            file_path,\n",
    "            sheet_name=sheet_name,\n",
    "            header=header\n",
    "        )\n",
    "        \n",
    "        # 데이터 기본 정보 출력\n",
    "        print(f\"데이터 크기: {df.shape}\")\n",
    "        print(\"\\n처음 5행:\")\n",
    "        print(df.head())\n",
    "        print(\"\\n데이터 정보:\")\n",
    "        print(df.info())\n",
    "        \n",
    "        return df\n",
    "        \n",
    "    except Exception as e:\n",
    "        print(f\"오류 발생: {str(e)}\")\n",
    "        raise"
   ]
  },
  {
   "cell_type": "code",
   "execution_count": null,
   "metadata": {},
   "outputs": [],
   "source": [
    "file_path = \"./youtube_playlist 1.xlsx\"\n",
    "df = excel_to_df(file_path, sheet_name=\"Sheet1\")\n",
    "df"
   ]
  },
  {
   "cell_type": "code",
   "execution_count": null,
   "metadata": {},
   "outputs": [],
   "source": [
    "song_list_df = df.copy()\n",
    "song_list_df = song_list_df.rename(columns={'Unnamed: 1':'keyword'})\n",
    "song_list_df.head(3)"
   ]
  },
  {
   "cell_type": "code",
   "execution_count": null,
   "metadata": {},
   "outputs": [],
   "source": [
    "df_url_list = []\n",
    "for i in range(len(song_list_df)):\n",
    "    df_url_list.append((song_list_df['keyword'][i], song_list_df['url'][i]))\n",
    "\n",
    "print(df_url_list[:10])"
   ]
  },
  {
   "cell_type": "code",
   "execution_count": null,
   "metadata": {},
   "outputs": [],
   "source": [
    "df_url_list[31][0]"
   ]
  },
  {
   "cell_type": "code",
   "execution_count": null,
   "metadata": {},
   "outputs": [],
   "source": [
    "df_url_list[0]"
   ]
  },
  {
   "cell_type": "code",
   "execution_count": null,
   "metadata": {},
   "outputs": [],
   "source": [
    "tmp_list = df_url_list[:32]\n",
    "for url_data in tmp_list:\n",
    "    file_name = url_data[0]\n",
    "    youtube_url = url_data[1]\n",
    "    # print(file_name, youtube_url)\n",
    "    download_audio_with_ytdlp(youtube_url, file_name)  # 오디오 다운로드"
   ]
  },
  {
   "cell_type": "markdown",
   "metadata": {},
   "source": [
    "##### url_list의 곡 다운로드"
   ]
  },
  {
   "cell_type": "code",
   "execution_count": 5,
   "metadata": {},
   "outputs": [],
   "source": [
    "url_list = [\n",
    "    # ('', ''),\n",
    "]"
   ]
  },
  {
   "cell_type": "code",
   "execution_count": null,
   "metadata": {},
   "outputs": [],
   "source": [
    "for url_data in url_list:\n",
    "    file_name = url_data[0]\n",
    "    youtube_url = url_data[1]\n",
    "    download_audio_with_ytdlp(youtube_url, file_name)  # 오디오 다운로드"
   ]
  }
 ],
 "metadata": {
  "kernelspec": {
   "display_name": "Python 3",
   "language": "python",
   "name": "python3"
  },
  "language_info": {
   "codemirror_mode": {
    "name": "ipython",
    "version": 3
   },
   "file_extension": ".py",
   "mimetype": "text/x-python",
   "name": "python",
   "nbconvert_exporter": "python",
   "pygments_lexer": "ipython3",
   "version": "3.13.1"
  }
 },
 "nbformat": 4,
 "nbformat_minor": 2
}
